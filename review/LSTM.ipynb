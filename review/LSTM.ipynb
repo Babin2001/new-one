{
 "cells": [
  {
   "cell_type": "code",
   "execution_count": 15,
   "metadata": {},
   "outputs": [],
   "source": [
    "import pandas as pd\n",
    "import numpy as np\n",
    "from sklearn import preprocessing\n",
    "import os\n",
    "\n",
    "Cell_phones = pd.read_json(r'C:\\Users\\babin\\Downloads\\archive (7)\\Toys_and_Games\\Cell_phones_and_Accessories.json', lines=True)"
   ]
  },
  {
   "cell_type": "code",
   "execution_count": 17,
   "metadata": {},
   "outputs": [
    {
     "name": "stdout",
     "output_type": "stream",
     "text": [
      "<class 'pandas.core.frame.DataFrame'>\n",
      "RangeIndex: 1997140 entries, 0 to 1997139\n",
      "Data columns (total 12 columns):\n",
      " #   Column          Dtype \n",
      "---  ------          ----- \n",
      " 0   _id             object\n",
      " 1   reviewerID      object\n",
      " 2   asin            object\n",
      " 3   reviewerName    object\n",
      " 4   helpful         object\n",
      " 5   reviewText      object\n",
      " 6   overall         int64 \n",
      " 7   summary         object\n",
      " 8   unixReviewTime  int64 \n",
      " 9   reviewTime      object\n",
      " 10  category        object\n",
      " 11  class           int64 \n",
      "dtypes: int64(3), object(9)\n",
      "memory usage: 182.8+ MB\n"
     ]
    }
   ],
   "source": [
    "Cell_phones.info()\n"
   ]
  },
  {
   "cell_type": "code",
   "execution_count": 18,
   "metadata": {},
   "outputs": [],
   "source": [
    "Cell_phones['unixReviewTime'] = pd.to_datetime(Cell_phones['unixReviewTime'],unit='s')"
   ]
  },
  {
   "cell_type": "code",
   "execution_count": 19,
   "metadata": {},
   "outputs": [],
   "source": [
    "Cell_phones= Cell_phones.rename(columns={'overall': 'Product_rating'})\n",
    "Cell_phones= Cell_phones.rename(columns={'helpful': 'Review_rating'}) \n",
    "Cell_phones= Cell_phones.rename(columns={'reviewerName': 'Reviewer_name'})\n",
    "Cell_phones= Cell_phones.rename(columns={'asin': 'Product_Id'})\n",
    "Cell_phones= Cell_phones.rename(columns={'unixReviewTime': 'Time_of_review'}) "
   ]
  },
  {
   "cell_type": "code",
   "execution_count": 20,
   "metadata": {},
   "outputs": [],
   "source": [
    "Cell_phones.drop('reviewTime',axis=1,inplace=True)\n",
    "Cell_phones.drop('_id',axis=1,inplace=True)\n",
    "Cell_phones.drop('reviewerID',axis=1,inplace=True)"
   ]
  },
  {
   "cell_type": "code",
   "execution_count": 22,
   "metadata": {},
   "outputs": [
    {
     "name": "stdout",
     "output_type": "stream",
     "text": [
      "Product_Id            0\n",
      "Reviewer_name     10782\n",
      "Review_rating         0\n",
      "reviewText            0\n",
      "Product_rating        0\n",
      "summary               0\n",
      "Time_of_review        0\n",
      "category              0\n",
      "class                 0\n",
      "dtype: int64\n"
     ]
    }
   ],
   "source": [
    "null_count = Cell_phones.isnull().sum()\n",
    "print(null_count)"
   ]
  },
  {
   "cell_type": "code",
   "execution_count": 24,
   "metadata": {},
   "outputs": [
    {
     "data": {
      "text/plain": [
       "class\n",
       "1    1662754\n",
       "0     334386\n",
       "dtype: int64"
      ]
     },
     "execution_count": 24,
     "metadata": {},
     "output_type": "execute_result"
    }
   ],
   "source": [
    "Cell_phones.value_counts('class')"
   ]
  },
  {
   "cell_type": "code",
   "execution_count": 25,
   "metadata": {},
   "outputs": [],
   "source": [
    "Cell_phones['reviewText'] = Cell_phones['reviewText'].str.lower()"
   ]
  },
  {
   "cell_type": "code",
   "execution_count": 27,
   "metadata": {},
   "outputs": [],
   "source": [
    "Cell_phones.to_csv(r'C:\\Users\\babin\\OneDrive\\Desktop\\review\\reviewsystem\\static/Cell_phones_and_Accessories.csv', index=False)"
   ]
  },
  {
   "cell_type": "code",
   "execution_count": 32,
   "metadata": {},
   "outputs": [
    {
     "data": {
      "text/html": [
       "<div>\n",
       "<style scoped>\n",
       "    .dataframe tbody tr th:only-of-type {\n",
       "        vertical-align: middle;\n",
       "    }\n",
       "\n",
       "    .dataframe tbody tr th {\n",
       "        vertical-align: top;\n",
       "    }\n",
       "\n",
       "    .dataframe thead th {\n",
       "        text-align: right;\n",
       "    }\n",
       "</style>\n",
       "<table border=\"1\" class=\"dataframe\">\n",
       "  <thead>\n",
       "    <tr style=\"text-align: right;\">\n",
       "      <th></th>\n",
       "      <th>reviewText</th>\n",
       "      <th>class</th>\n",
       "    </tr>\n",
       "  </thead>\n",
       "  <tbody>\n",
       "    <tr>\n",
       "      <th>0</th>\n",
       "      <td>i love these felt nursery rhyme characters and...</td>\n",
       "      <td>1</td>\n",
       "    </tr>\n",
       "    <tr>\n",
       "      <th>1</th>\n",
       "      <td>i see no directions for its use. therefore i h...</td>\n",
       "      <td>0</td>\n",
       "    </tr>\n",
       "    <tr>\n",
       "      <th>2</th>\n",
       "      <td>this is a great tool for any teacher using the...</td>\n",
       "      <td>1</td>\n",
       "    </tr>\n",
       "    <tr>\n",
       "      <th>3</th>\n",
       "      <td>great product, thank you! our son loved the pu...</td>\n",
       "      <td>1</td>\n",
       "    </tr>\n",
       "    <tr>\n",
       "      <th>4</th>\n",
       "      <td>although not as streamlined as the algebra i m...</td>\n",
       "      <td>1</td>\n",
       "    </tr>\n",
       "  </tbody>\n",
       "</table>\n",
       "</div>"
      ],
      "text/plain": [
       "                                          reviewText  class\n",
       "0  i love these felt nursery rhyme characters and...      1\n",
       "1  i see no directions for its use. therefore i h...      0\n",
       "2  this is a great tool for any teacher using the...      1\n",
       "3  great product, thank you! our son loved the pu...      1\n",
       "4  although not as streamlined as the algebra i m...      1"
      ]
     },
     "execution_count": 32,
     "metadata": {},
     "output_type": "execute_result"
    }
   ],
   "source": [
    "import pandas as pd\n",
    "import torch\n",
    "import torch.nn as nn\n",
    "import torch.optim as optim\n",
    "from torch.utils.data import DataLoader, Dataset\n",
    "from sklearn.model_selection import train_test_split\n",
    "from sklearn.feature_extraction.text import TfidfVectorizer\n",
    "import joblib\n",
    "\n",
    "# Load the dataset\n",
    "csv_file_path = r'C:\\Users\\babin\\OneDrive\\Desktop\\review\\reviewsystem\\static/Cell_Phones_and_Accessories.csv'\n",
    "df = pd.read_csv(csv_file_path)\n",
    "\n",
    "df.head()\n",
    "\n",
    "df = df[['reviewText','class']]\n",
    "df.head()"
   ]
  },
  {
   "cell_type": "code",
   "execution_count": 35,
   "metadata": {},
   "outputs": [],
   "source": [
    "df2 = df.sample(2000,random_state=42)\n",
    "df2.rename(columns={'reviewText':'text','class':'label'},inplace=True)\n",
    "df2 = df2[df2['text'].str.len()<=512]"
   ]
  },
  {
   "cell_type": "code",
   "execution_count": 36,
   "metadata": {},
   "outputs": [
    {
     "data": {
      "text/plain": [
       "(1    1395\n",
       " 0     266\n",
       " Name: label, dtype: int64,\n",
       " (1661, 2))"
      ]
     },
     "execution_count": 36,
     "metadata": {},
     "output_type": "execute_result"
    }
   ],
   "source": [
    "df2['label'].value_counts(), df2.shape"
   ]
  },
  {
   "cell_type": "code",
   "execution_count": 37,
   "metadata": {},
   "outputs": [
    {
     "data": {
      "text/plain": [
       "(1997140, 2)"
      ]
     },
     "execution_count": 37,
     "metadata": {},
     "output_type": "execute_result"
    }
   ],
   "source": [
    "df.shape"
   ]
  },
  {
   "cell_type": "code",
   "execution_count": 53,
   "metadata": {},
   "outputs": [
    {
     "name": "stdout",
     "output_type": "stream",
     "text": [
      "TF-IDF vectorizer saved to C:\\Users\\babin\\OneDrive\\Desktop\\review\\reviewsystem\\static\\TFIDF_vectorization_v2.pkl\n"
     ]
    }
   ],
   "source": [
    "reviews = df2['text'].tolist()\n",
    "labels = df2['label'].tolist()\n",
    "\n",
    "# Text cleaning function\n",
    "def clean_text(text):\n",
    "    import re\n",
    "    text = re.sub(r'\\s+', ' ', text)  \n",
    "    text = text.strip()  \n",
    "    text = text.lower()  \n",
    "    return text\n",
    "\n",
    "# Clean the reviews\n",
    "reviews = [clean_text(review) for review in reviews]\n",
    "\n",
    "# Create TFIDF vectorizer and fit it on the data\n",
    "vectorizer = TfidfVectorizer(max_features=5000)  \n",
    "X = vectorizer.fit_transform(reviews)  \n",
    "\n",
    "# Save \n",
    "vectorizer_path = r'C:\\Users\\babin\\OneDrive\\Desktop\\review\\reviewsystem\\static\\TFIDF_vectorization_v2.pkl'\n",
    "joblib.dump(vectorizer, vectorizer_path)\n",
    "\n",
    "print(f\"TF-IDF vectorizer saved to {vectorizer_path}\")\n"
   ]
  },
  {
   "cell_type": "code",
   "execution_count": 46,
   "metadata": {},
   "outputs": [],
   "source": [
    "# Define Dataset class\n",
    "class ReviewDataset(Dataset):\n",
    "    def __init__(self, reviews, labels, vectorizer):\n",
    "        self.reviews = reviews\n",
    "        self.labels = labels\n",
    "        self.vectorizer = vectorizer\n",
    "    \n",
    "    def __len__(self):\n",
    "        return len(self.reviews)\n",
    "    \n",
    "    def __getitem__(self, idx):\n",
    "        text = self.reviews[idx]\n",
    "        text_vectorized = self.vectorizer.transform([text]).toarray()[0]\n",
    "        label = self.labels[idx]\n",
    "        return torch.tensor(text_vectorized, dtype=torch.float32), torch.tensor(label, dtype=torch.float32)\n",
    "\n",
    "# Split the data\n",
    "reviews_train, reviews_val, labels_train, labels_val = train_test_split(reviews, labels, test_size=0.2, random_state=42)\n",
    "\n",
    "# Create Dataset and DataLoader\n",
    "train_dataset = ReviewDataset(reviews_train, labels_train, vectorizer)\n",
    "val_dataset = ReviewDataset(reviews_val, labels_val, vectorizer)\n",
    "\n",
    "train_loader = DataLoader(train_dataset, batch_size=32, shuffle=True)\n",
    "val_loader = DataLoader(val_dataset, batch_size=32, shuffle=False)\n"
   ]
  },
  {
   "cell_type": "code",
   "execution_count": 47,
   "metadata": {},
   "outputs": [],
   "source": [
    "# Define the LSTM model (without embedding layer)\n",
    "class LSTMModel(nn.Module):\n",
    "    def __init__(self, input_dim, hidden_dim, output_dim):\n",
    "        super(LSTMModel, self).__init__()\n",
    "        self.lstm = nn.LSTM(input_dim, hidden_dim, batch_first=True)\n",
    "        self.fc = nn.Linear(hidden_dim, output_dim)\n",
    "        self.dropout = nn.Dropout(0.5)\n",
    "\n",
    "    def forward(self, text):\n",
    "        lstm_out, (hidden, cell) = self.lstm(text)\n",
    "        return torch.sigmoid(self.fc(self.dropout(hidden[-1])))\n",
    "\n",
    "# Initialize model\n",
    "input_dim = len(vectorizer.get_feature_names_out())  \n",
    "hidden_dim = 256  \n",
    "output_dim = 1  \n",
    "\n",
    "model = LSTMModel(input_dim, hidden_dim, output_dim)\n",
    "\n",
    "\n"
   ]
  },
  {
   "cell_type": "code",
   "execution_count": 48,
   "metadata": {},
   "outputs": [],
   "source": [
    "# Training setup\n",
    "optimizer = optim.Adam(model.parameters(), lr=0.001)\n",
    "criterion = nn.BCELoss()"
   ]
  },
  {
   "cell_type": "code",
   "execution_count": 49,
   "metadata": {},
   "outputs": [
    {
     "name": "stdout",
     "output_type": "stream",
     "text": [
      "Epoch 1/10, Loss: 0.5937299025910241\n",
      "Epoch 2/10, Loss: 0.4320789554289409\n",
      "Epoch 3/10, Loss: 0.38276169839359464\n",
      "Epoch 4/10, Loss: 0.3395647055336407\n",
      "Epoch 5/10, Loss: 0.28845942162332083\n",
      "Epoch 6/10, Loss: 0.21650937164113634\n",
      "Epoch 7/10, Loss: 0.14342074681605613\n",
      "Epoch 8/10, Loss: 0.09527021859373365\n",
      "Epoch 9/10, Loss: 0.06373547558628377\n",
      "Epoch 10/10, Loss: 0.04502578629624276\n"
     ]
    }
   ],
   "source": [
    "# Training loop\n",
    "num_epochs = 10  \n",
    "for epoch in range(num_epochs):\n",
    "    model.train()\n",
    "    epoch_loss = 0\n",
    "    for texts, labels in train_loader:\n",
    "        optimizer.zero_grad()\n",
    "        texts = texts.unsqueeze(1)  \n",
    "        predictions = model(texts).squeeze(1)\n",
    "        loss = criterion(predictions, labels)\n",
    "        loss.backward()\n",
    "        optimizer.step()\n",
    "        epoch_loss += loss.item()\n",
    "    \n",
    "    print(f'Epoch {epoch+1}/{num_epochs}, Loss: {epoch_loss/len(train_loader)}')\n"
   ]
  },
  {
   "cell_type": "code",
   "execution_count": 50,
   "metadata": {},
   "outputs": [
    {
     "name": "stdout",
     "output_type": "stream",
     "text": [
      "Validation Loss: 0.2808732424270023\n"
     ]
    }
   ],
   "source": [
    "# Validation (optional)\n",
    "model.eval()\n",
    "val_loss = 0\n",
    "with torch.no_grad():\n",
    "    for texts, labels in val_loader:\n",
    "        texts = texts.unsqueeze(1)  \n",
    "        predictions = model(texts).squeeze(1)\n",
    "        loss = criterion(predictions, labels)\n",
    "        val_loss += loss.item()\n",
    "\n",
    "    print(f'Validation Loss: {val_loss/len(val_loader)}')"
   ]
  },
  {
   "cell_type": "code",
   "execution_count": 51,
   "metadata": {},
   "outputs": [],
   "source": [
    "# Save the trained model state\n",
    "torch.save(model.state_dict(),r'C:\\Users\\babin\\OneDrive\\Desktop\\review\\reviewsystem\\static\\LSTM_model_state.pth')"
   ]
  },
  {
   "cell_type": "code",
   "execution_count": null,
   "metadata": {},
   "outputs": [],
   "source": []
  }
 ],
 "metadata": {
  "kernelspec": {
   "display_name": "small-projects-ml",
   "language": "python",
   "name": "python3"
  },
  "language_info": {
   "codemirror_mode": {
    "name": "ipython",
    "version": 3
   },
   "file_extension": ".py",
   "mimetype": "text/x-python",
   "name": "python",
   "nbconvert_exporter": "python",
   "pygments_lexer": "ipython3",
   "version": "3.7.9"
  }
 },
 "nbformat": 4,
 "nbformat_minor": 2
}
